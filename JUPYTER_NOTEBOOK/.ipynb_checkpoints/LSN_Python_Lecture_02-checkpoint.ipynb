{
 "cells": [
  {
   "cell_type": "markdown",
   "metadata": {},
   "source": [
    "# <span style=\"color:green\"> Numerical Simulation Laboratory </span>\n",
    "## <span style=\"color:brown\"> Python LECTURE 2 </span>\n",
    "## <span style=\"color:orange\"> LOOPS, FILES, FUNCTIONS </span>"
   ]
  },
  {
   "cell_type": "markdown",
   "metadata": {},
   "source": [
    "<img src=\"Pictures/python.png\" width=\"600\">"
   ]
  },
  {
   "cell_type": "markdown",
   "metadata": {},
   "source": [
    "- Loops\n",
    "- Iterators, generators\n",
    "- Opening, reading, writing files\n",
    "- Functions\n",
    "- Function arguments\n",
    "- Comments\n",
    "- Docstrings"
   ]
  },
  {
   "cell_type": "markdown",
   "metadata": {},
   "source": [
    "## Loops\n",
    "- Sometimes, you need to perform code on each item in a list. This is called iteration, and it can be accomplished with a <span style=\"color:blue\"> **while** </span> loop and a counter variable.\n",
    "- The example below iterates through all items in the list, accesses them using their indices, and prints them with exclamation marks."
   ]
  },
  {
   "cell_type": "code",
   "execution_count": 2,
   "metadata": {},
   "outputs": [
    {
     "name": "stdout",
     "output_type": "stream",
     "text": [
      "hello!\n",
      "world!\n",
      "spam!\n",
      "eggs!\n"
     ]
    }
   ],
   "source": [
    "words = [\"hello\", \"world\", \"spam\", \"eggs\"]\n",
    "counter = 0\n",
    "max_index = len(words) - 1\n",
    "while counter <= max_index:\n",
    "   word = words[counter]\n",
    "   print(word + \"!\")\n",
    "   counter = counter + 1"
   ]
  },
  {
   "cell_type": "markdown",
   "metadata": {},
   "source": [
    "- Iterating through a list using a **while** loop requires quite a lot of code, so Python provides the <span style=\"color:blue\"> **for** </span> loop as a shortcut that accomplishes the same thing.\n",
    "- The same code from the previous example can be written with a **for** loop, as follows:"
   ]
  },
  {
   "cell_type": "code",
   "execution_count": 3,
   "metadata": {},
   "outputs": [
    {
     "name": "stdout",
     "output_type": "stream",
     "text": [
      "hello!\n",
      "world!\n",
      "spam!\n",
      "eggs!\n"
     ]
    }
   ],
   "source": [
    "words = [\"hello\", \"world\", \"spam\", \"eggs\"]\n",
    "for word in words:\n",
    "  print(word + \"!\")"
   ]
  },
  {
   "cell_type": "markdown",
   "metadata": {},
   "source": [
    "- The **for** loop is commonly used to repeat some code a certain number of times. This is done by combining for loops with range objects."
   ]
  },
  {
   "cell_type": "code",
   "execution_count": 4,
   "metadata": {},
   "outputs": [
    {
     "name": "stdout",
     "output_type": "stream",
     "text": [
      "hello!\n",
      "hello!\n",
      "hello!\n",
      "hello!\n",
      "hello!\n"
     ]
    }
   ],
   "source": [
    "for i in range(5):\n",
    "  print(\"hello!\")"
   ]
  },
  {
   "cell_type": "markdown",
   "metadata": {},
   "source": [
    "- You don't need to call **list** on the range object when it is used in a for loop, because it isn't being indexed, so a list isn't required."
   ]
  },
  {
   "cell_type": "markdown",
   "metadata": {},
   "source": [
    "## Python iterators\n",
    "- Iterator in Python is simply an object that can be iterated upon. An object which will return data, one element at a time.\n",
    "- Technically speaking, Python iterator object must implement two special methods, **__iter__( )** and **__next__( )**, collectively called the iterator protocol.\n",
    "- An object is called iterable if we can get an iterator from it. Most of built-in containers in Python like: **list, string etc. are iterables**.\n",
    "- The **iter( )** function (which in turn calls the **__iter__( )** method) returns an iterator from them.\n",
    "- We use the **next( )** function to manually iterate through all the items of an iterator. When we reach the end and there is no more data to be returned, it will raise **StopIteration**.\n",
    "- Following is an example:"
   ]
  },
  {
   "cell_type": "code",
   "execution_count": 5,
   "metadata": {},
   "outputs": [
    {
     "name": "stdout",
     "output_type": "stream",
     "text": [
      "4\n",
      "7\n",
      "0\n",
      "3\n"
     ]
    },
    {
     "ename": "StopIteration",
     "evalue": "",
     "output_type": "error",
     "traceback": [
      "\u001b[0;31m---------------------------------------------------------------------------\u001b[0m",
      "\u001b[0;31mStopIteration\u001b[0m                             Traceback (most recent call last)",
      "\u001b[0;32m<ipython-input-5-ae4b11fe1bb7>\u001b[0m in \u001b[0;36m<module>\u001b[0;34m()\u001b[0m\n\u001b[1;32m      9\u001b[0m \u001b[0;31m# This will raise error\u001b[0m\u001b[0;34m\u001b[0m\u001b[0;34m\u001b[0m\u001b[0m\n\u001b[1;32m     10\u001b[0m \u001b[0;31m# no items left\u001b[0m\u001b[0;34m\u001b[0m\u001b[0;34m\u001b[0m\u001b[0m\n\u001b[0;32m---> 11\u001b[0;31m \u001b[0mnext\u001b[0m\u001b[0;34m(\u001b[0m\u001b[0mmy_iter\u001b[0m\u001b[0;34m)\u001b[0m\u001b[0;34m\u001b[0m\u001b[0m\n\u001b[0m",
      "\u001b[0;31mStopIteration\u001b[0m: "
     ]
    }
   ],
   "source": [
    "my_list = [4, 7, 0, 3] # define a list\n",
    "my_iter = iter(my_list) # get an iterator using iter()\n",
    "# iterate through it using next() \n",
    "print(next(my_iter))\n",
    "print(next(my_iter))\n",
    "# next(iterator) is same as iterator.__next__()\n",
    "print(my_iter.__next__())\n",
    "print(my_iter.__next__())\n",
    "# This will raise error\n",
    "# no items left\n",
    "next(my_iter)"
   ]
  },
  {
   "cell_type": "markdown",
   "metadata": {},
   "source": [
    "- A more elegant way of automatically iterating is by using the for loop. Using this, we can iterate over any object that can return an iterator, for example list, string, file etc.:"
   ]
  },
  {
   "cell_type": "code",
   "execution_count": 6,
   "metadata": {},
   "outputs": [
    {
     "name": "stdout",
     "output_type": "stream",
     "text": [
      "4\n",
      "7\n",
      "0\n",
      "3\n"
     ]
    }
   ],
   "source": [
    "my_list = [4, 7, 0, 3] # define a list\n",
    "for element in my_list:\n",
    "    print(element)"
   ]
  },
  {
   "cell_type": "markdown",
   "metadata": {},
   "source": [
    "- Consider the following example:"
   ]
  },
  {
   "cell_type": "code",
   "execution_count": 8,
   "metadata": {},
   "outputs": [
    {
     "name": "stdout",
     "output_type": "stream",
     "text": [
      "<class 'int'>\n",
      "0\n",
      "<class 'int'>\n",
      "1\n",
      "<class 'int'>\n",
      "2\n",
      "<class 'str'>\n",
      "tizio\n",
      "<class 'str'>\n",
      "caio\n",
      "<class 'str'>\n",
      "sempronio\n",
      "<class 'str'>\n",
      "c\n",
      "<class 'str'>\n",
      "i\n",
      "<class 'str'>\n",
      "a\n",
      "<class 'str'>\n",
      "o\n",
      "<class 'str'>\n",
      "prima linea\n",
      "\n",
      "<class 'str'>\n",
      "seconda linea\n",
      "\n",
      "<class 'str'>\n",
      "terza linea\n",
      "\n"
     ]
    }
   ],
   "source": [
    "lista_numbers = [x for x in range(3)]\n",
    "for number in lista_numbers:\n",
    "    print(type(number))\n",
    "    print(number)\n",
    "\n",
    "lista_words = [\"tizio\", \"caio\", \"sempronio\"]\n",
    "for words in lista_words:\n",
    "    print(type(words))\n",
    "    print(words)\n",
    "\n",
    "stringa = \"ciao\"\n",
    "for letter in stringa:\n",
    "    print(type(letter))\n",
    "    print(letter)\n",
    "\n",
    "textfile = open(\"Files/textfile.txt\", \"r\")\n",
    "for line in textfile.readlines():\n",
    "    print(type(line))\n",
    "    print(line)"
   ]
  },
  {
   "cell_type": "markdown",
   "metadata": {},
   "source": [
    "## How for loop actually works?\n",
    "- Let's take a closer look at how the for loop is actually implemented in Python.\n",
    "        for element in iterable:\n",
    "            #do something with element\n",
    "- Is actually implemented as:"
   ]
  },
  {
   "cell_type": "code",
   "execution_count": 11,
   "metadata": {},
   "outputs": [],
   "source": [
    "# create an iterator object from an iterable\n",
    "word = \"parola\"\n",
    "iter_obj = iter(word)\n",
    "while True:\n",
    "    try:\n",
    "        element = next(iter_obj) # get the next item\n",
    "        # do something with element\n",
    "    except StopIteration:\n",
    "        # if StopIteration is raised, break from loop\n",
    "        break"
   ]
  },
  {
   "cell_type": "markdown",
   "metadata": {},
   "source": [
    "- So internally, the for loop creates an iterator object, iter_obj by calling **iter( )** on the iterable.\n",
    "- Then, inside the **while** loop, it calls **next( )** to get the next element and executes the body of the for loop with this value. \n",
    "- After all the items exhaust, **StopIteration** is raised which is internally caught and the loop ends. <span style=\"color:red\"> Note that any other kind of exception will pass through</span>."
   ]
  },
  {
   "cell_type": "markdown",
   "metadata": {},
   "source": [
    "## Generators\n",
    "- Generators are iterators, a kind of iterable you can only iterate over once. Generators do not store all the values in memory, they generate the values on the fly:"
   ]
  },
  {
   "cell_type": "code",
   "execution_count": 12,
   "metadata": {},
   "outputs": [
    {
     "name": "stdout",
     "output_type": "stream",
     "text": [
      "<class 'generator'>\n",
      "First time: 0\n",
      "First time: 1\n",
      "First time: 4\n",
      "<class 'list'>\n",
      "First time: 0\n",
      "First time: 1\n",
      "First time: 4\n",
      "Second time: 0\n",
      "Second time: 1\n",
      "Second time: 4\n"
     ]
    }
   ],
   "source": [
    "my_generator = (x*x for x in range(3))\n",
    "print(type(my_generator))\n",
    "for i in my_generator:\n",
    "    print(\"First time: \" + str(i))\n",
    "for i in my_generator:\n",
    "    print(\"Second time: \" + str(i))\n",
    "my_iterator = [x*x for x in range(3)]\n",
    "print(type(my_iterator))\n",
    "for i in my_iterator:\n",
    "    print(\"First time: \" + str(i))\n",
    "for i in my_iterator:\n",
    "    print(\"Second time: \" + str(i))"
   ]
  },
  {
   "cell_type": "markdown",
   "metadata": {},
   "source": [
    "- It is like in list-comprehensions except you used () instead of []. BUT, you cannot perform for i in my_generator a second time since generators can only be used once.\n",
    "- **yield** is a keyword that is used like return, except the function will return a generator:"
   ]
  },
  {
   "cell_type": "code",
   "execution_count": 13,
   "metadata": {},
   "outputs": [
    {
     "name": "stdout",
     "output_type": "stream",
     "text": [
      "<class 'generator'>\n",
      "First time: 0\n",
      "First time: 1\n",
      "First time: 4\n"
     ]
    }
   ],
   "source": [
    "def create_generator():\n",
    "    mylist = range(3)\n",
    "    for i in mylist:\n",
    "        yield i*i\n",
    "\n",
    "my_generator = create_generator()\n",
    "print(type(my_generator))\n",
    "for i in my_generator:\n",
    "    print(\"First time: \" + str(i))\n",
    "for i in my_generator:\n",
    "    print(\"Second time: \" + str(i))"
   ]
  },
  {
   "cell_type": "markdown",
   "metadata": {},
   "source": [
    "- To master yield, you must understand that when you call the function, the code you have written in the function body does not run. The function only returns the generator object. Then, your code will be run each time the for uses the generator."
   ]
  },
  {
   "cell_type": "markdown",
   "metadata": {},
   "source": [
    "## Opening files\n",
    "- You can use Python to read and write the contents of files.\n",
    "- Text files are the easiest to manipulate. Before a file can be edited, it must be opened, using the open function.\n",
    "        myfile = open(\"filename.txt\")\n",
    "- The argument of the open function is the path to the file + the file.\n",
    "- If the file is in the same directory as the program, you can specify only its name.\n",
    "- You can specify the mode used to open a file by applying a second argument to the open function.\n",
    "- Sending **\"r\"** means open in read mode, … **is the default**.\n",
    "- Sending **\"w\"** means write mode, for rewriting the contents of a file.\n",
    "- Sending **\"a\"** means append mode, for adding new content to the end of the file.\n",
    "- Adding **\"b\"** to a mode opens it in binary mode, which is used for non-text files (such as image and sound files).\n",
    "        open(\"filename.txt\", \"w\")  #write mode\n",
    "        open(\"filename.txt\", \"r\")  #read mode\n",
    "        open(\"filename.txt\")       #read mode\n",
    "        open(\"filename.txt\", \"wb\") #binary write mode\n",
    "- Once a file has been opened and used, you should close it.\n",
    "- This is done with the close method of the file object.\n",
    "        file = open(\"filename.txt\", \"w\")\n",
    "        # do stuff to the file\n",
    "        file.close()\n",
    "- The contents of a file that has been opened in text mode can be read using the read method.\n",
    "        file = open(\"filename.txt\", \"r\")\n",
    "        cont = file.read()\n",
    "        print(cont)\n",
    "        file.close()\n",
    "- This will print all of the contents of the file \"filename.txt\"."
   ]
  },
  {
   "cell_type": "markdown",
   "metadata": {},
   "source": [
    "## Reading files\n",
    "- To read only a certain amount of a file, you can provide a number as an argument to the read function. This determines the number of bytes that should be read.\n",
    "- You can make more calls to read on the same file object to read more of the file byte by byte. With no argument, read returns the rest of the file. "
   ]
  },
  {
   "cell_type": "code",
   "execution_count": 15,
   "metadata": {},
   "outputs": [
    {
     "name": "stdout",
     "output_type": "stream",
     "text": [
      "prima linea\n",
      "seco\n",
      "nda \n",
      "line\n",
      "a\n",
      "terza linea\n",
      "\n"
     ]
    }
   ],
   "source": [
    "file = open(\"Files/textfile.txt\", \"r\")\n",
    "print(file.read(16))\n",
    "print(file.read(4))\n",
    "print(file.read(4))\n",
    "print(file.read())\n",
    "file.close()"
   ]
  },
  {
   "cell_type": "markdown",
   "metadata": {},
   "source": [
    "- After all contents in a file have been read, any attempts to read further from that file will return an empty string, because you are trying to read from the end of the file."
   ]
  },
  {
   "cell_type": "code",
   "execution_count": 16,
   "metadata": {},
   "outputs": [
    {
     "name": "stdout",
     "output_type": "stream",
     "text": [
      "Re-reading\n",
      "\n",
      "Finished\n"
     ]
    }
   ],
   "source": [
    "file = open(\"Files/textfile.txt\", \"r\")\n",
    "file.read()\n",
    "print(\"Re-reading\")\n",
    "print(file.read())\n",
    "print(\"Finished\")\n",
    "file.close()"
   ]
  },
  {
   "cell_type": "markdown",
   "metadata": {},
   "source": [
    "- To retrieve each line in a file, you can use the **readlines** method to return a list in which each element is a line in the file."
   ]
  },
  {
   "cell_type": "code",
   "execution_count": 17,
   "metadata": {},
   "outputs": [
    {
     "name": "stdout",
     "output_type": "stream",
     "text": [
      "['prima linea\\n', 'seconda linea\\n', 'terza linea\\n']\n"
     ]
    }
   ],
   "source": [
    "file = open(\"Files/textfile.txt\", \"r\")\n",
    "print(file.readlines())\n",
    "file.close()"
   ]
  },
  {
   "cell_type": "markdown",
   "metadata": {},
   "source": [
    "- You can also use a **for** loop to iterate through the lines in the file:"
   ]
  },
  {
   "cell_type": "code",
   "execution_count": 18,
   "metadata": {},
   "outputs": [
    {
     "name": "stdout",
     "output_type": "stream",
     "text": [
      "prima linea\n",
      "\n",
      "seconda linea\n",
      "\n",
      "terza linea\n",
      "\n"
     ]
    }
   ],
   "source": [
    "file = open(\"Files/textfile.txt\", \"r\")\n",
    "for line in file:\n",
    "    print(line)\n",
    "file.close()"
   ]
  },
  {
   "cell_type": "markdown",
   "metadata": {},
   "source": [
    "- In the output, the lines are separated by blank lines, as the print function automatically adds a new line at the end of its output.\n",
    "- To write to files you use the write method, which writes a string to the file. For example:"
   ]
  },
  {
   "cell_type": "code",
   "execution_count": 20,
   "metadata": {},
   "outputs": [
    {
     "name": "stdout",
     "output_type": "stream",
     "text": [
      "This has been written to a file\n"
     ]
    }
   ],
   "source": [
    "file = open(\"Files/newfile.txt\", \"w\")\n",
    "file.write(\"This has been written to a file\")\n",
    "file.close()\n",
    "\n",
    "file = open(\"Files/newfile.txt\", \"r\")\n",
    "print(file.read())\n",
    "file.close()"
   ]
  },
  {
   "cell_type": "markdown",
   "metadata": {},
   "source": [
    "- The \"w\" mode will create a file, if it does not already exist.\n",
    "- When a file is opened in write mode, the file's existing content is deleted."
   ]
  },
  {
   "cell_type": "code",
   "execution_count": 21,
   "metadata": {},
   "outputs": [
    {
     "name": "stdout",
     "output_type": "stream",
     "text": [
      "Reading initial contents\n",
      "This has been written to a file\n",
      "Finished\n",
      "Reading new contents\n",
      "Some new text\n",
      "Finished\n"
     ]
    }
   ],
   "source": [
    "file = open(\"Files/newfile.txt\", \"r\")\n",
    "print(\"Reading initial contents\")\n",
    "print(file.read())\n",
    "print(\"Finished\")\n",
    "file.close()\n",
    "\n",
    "file = open(\"Files/newfile.txt\", \"w\")\n",
    "file.write(\"Some new text\")\n",
    "file.close()\n",
    "\n",
    "file = open(\"Files/newfile.txt\", \"r\")\n",
    "print(\"Reading new contents\")\n",
    "print(file.read())\n",
    "print(\"Finished\")\n",
    "file.close()"
   ]
  },
  {
   "cell_type": "markdown",
   "metadata": {},
   "source": [
    "- The write method returns the number of bytes written to a file, if successful."
   ]
  },
  {
   "cell_type": "code",
   "execution_count": 22,
   "metadata": {},
   "outputs": [
    {
     "name": "stdout",
     "output_type": "stream",
     "text": [
      "12\n"
     ]
    }
   ],
   "source": [
    "msg = \"Hello world!\"\n",
    "file = open(\"Files/newfile.txt\", \"w\")\n",
    "amount_written = file.write(msg)\n",
    "print(amount_written)\n",
    "file.close()"
   ]
  },
  {
   "cell_type": "markdown",
   "metadata": {},
   "source": [
    "## Reusing code\n",
    "- Code reuse is a very important part of programming in any language. Increasing code size makes it harder to maintain.\n",
    "- For a large programming project to be successful, it is essential to abide by the **Don't Repeat Yourself**, or **DRY**, principle. \n",
    "- We've already looked at one way of doing this: by using loops. In this lecture, we will explore two more: functions and modules.\n",
    "- Bad, repetitive code is said to abide by the **WET** principle, which stands for **Write Everything Twice**, or **We Enjoy Typing**!"
   ]
  },
  {
   "cell_type": "markdown",
   "metadata": {},
   "source": [
    "## Functions\n",
    "- You've already used functions in previous lectures.\n",
    "- Any statement that consists of a word followed by information in parentheses is a function call.\n",
    "- Here are some examples that you've already seen:\n",
    "        print(\"Hello world!\")\n",
    "        range(2, 20)\n",
    "        str(12)\n",
    "        range(10, 20, 3)\n",
    "- The words in front of the parentheses are function names, and the comma-separated values inside the parentheses are function arguments.\n",
    "- In addition to using pre-defined functions, you can create your own functions by using the **def** statement.\n",
    "- Here is an example of a function. It takes no arguments, and prints \"spam\" three times. It is defined, and then called. The statements in the function are executed only when the function is called."
   ]
  },
  {
   "cell_type": "code",
   "execution_count": 2,
   "metadata": {},
   "outputs": [
    {
     "name": "stdout",
     "output_type": "stream",
     "text": [
      "spam\n",
      "spam\n",
      "spam\n"
     ]
    }
   ],
   "source": [
    "def my_func():\n",
    "    print(\"spam\")\n",
    "    print(\"spam\")\n",
    "    print(\"spam\")\n",
    "\n",
    "my_func()"
   ]
  },
  {
   "cell_type": "markdown",
   "metadata": {},
   "source": [
    "- The code block within every function starts with a colon (:) and is indented.\n",
    "- You must define functions before they are called, in the same way that you must assign variables before using them. "
   ]
  },
  {
   "cell_type": "markdown",
   "metadata": {},
   "source": [
    "## Function arguments\n",
    "- All the function definitions we've looked at so far have been functions of zero arguments, which are called with empty parentheses.\n",
    "- However, most functions take arguments.\n",
    "- The example below defines a function that takes one argument:"
   ]
  },
  {
   "cell_type": "code",
   "execution_count": 4,
   "metadata": {},
   "outputs": [
    {
     "name": "stdout",
     "output_type": "stream",
     "text": [
      "spam!\n",
      "eggs!\n",
      "python!\n"
     ]
    }
   ],
   "source": [
    "def print_with_exclamation(word):\n",
    "    print(word + \"!\")\n",
    "    \n",
    "print_with_exclamation(\"spam\")\n",
    "print_with_exclamation(\"eggs\")\n",
    "print_with_exclamation(\"python\")"
   ]
  },
  {
   "cell_type": "markdown",
   "metadata": {},
   "source": [
    "- As you can see, the argument is defined inside the parentheses.\n",
    "- You can also define functions with more than one argument; separate them with commas."
   ]
  },
  {
   "cell_type": "code",
   "execution_count": 5,
   "metadata": {},
   "outputs": [
    {
     "name": "stdout",
     "output_type": "stream",
     "text": [
      "13\n",
      "13\n"
     ]
    }
   ],
   "source": [
    "def print_sum_twice(x, y):\n",
    "    print(x + y)\n",
    "    print(x + y)\n",
    "\n",
    "print_sum_twice(5, 8)"
   ]
  },
  {
   "cell_type": "markdown",
   "metadata": {},
   "source": [
    "- Function arguments can be used as variables inside the function definition. However, they cannot be referenced outside of the function's definition. This also applies to other variables created inside a function.\n",
    "- Technically, parameters are the variables in a function definition, and arguments are the values put into parameters when functions are called."
   ]
  },
  {
   "cell_type": "code",
   "execution_count": 6,
   "metadata": {},
   "outputs": [
    {
     "name": "stdout",
     "output_type": "stream",
     "text": [
      "8\n"
     ]
    },
    {
     "ename": "NameError",
     "evalue": "name 'variable' is not defined",
     "output_type": "error",
     "traceback": [
      "\u001b[0;31m---------------------------------------------------------------------------\u001b[0m",
      "\u001b[0;31mNameError\u001b[0m                                 Traceback (most recent call last)",
      "\u001b[0;32m<ipython-input-6-b62e02bfa17e>\u001b[0m in \u001b[0;36m<module>\u001b[0;34m()\u001b[0m\n\u001b[1;32m      4\u001b[0m \u001b[0;34m\u001b[0m\u001b[0m\n\u001b[1;32m      5\u001b[0m \u001b[0mfunction\u001b[0m\u001b[0;34m(\u001b[0m\u001b[0;36m7\u001b[0m\u001b[0;34m)\u001b[0m\u001b[0;34m\u001b[0m\u001b[0m\n\u001b[0;32m----> 6\u001b[0;31m \u001b[0mprint\u001b[0m\u001b[0;34m(\u001b[0m\u001b[0mvariable\u001b[0m\u001b[0;34m)\u001b[0m\u001b[0;34m\u001b[0m\u001b[0m\n\u001b[0m",
      "\u001b[0;31mNameError\u001b[0m: name 'variable' is not defined"
     ]
    }
   ],
   "source": [
    "def function(variable):\n",
    "    variable += 1\n",
    "    print(variable)\n",
    "\n",
    "function(7)\n",
    "print(variable)"
   ]
  },
  {
   "cell_type": "markdown",
   "metadata": {},
   "source": [
    "- Certain functions, such as **int** or **str**, return a value that can be used later.\n",
    "- To do this for your defined functions, you can use the **return** statement."
   ]
  },
  {
   "cell_type": "code",
   "execution_count": 10,
   "metadata": {},
   "outputs": [
    {
     "name": "stdout",
     "output_type": "stream",
     "text": [
      "7\n",
      "8\n"
     ]
    }
   ],
   "source": [
    "def greater(x, y):\n",
    "    if x >= y:\n",
    "        return x\n",
    "    else:\n",
    "        return y\n",
    "        \n",
    "print(greater(4,7))\n",
    "z = greater(8,5)\n",
    "print(z)"
   ]
  },
  {
   "cell_type": "markdown",
   "metadata": {},
   "source": [
    "- The return statement cannot be used outside of a function definition\n",
    "- Once you return a value from a function, it immediately stops being executed. Any code after the return statement will never happen.\n",
    "- Although they are created differently from normal variables, **functions are just like any other kind of value**.\n",
    "- They can be assigned and reassigned to variables, and later referenced by those names."
   ]
  },
  {
   "cell_type": "code",
   "execution_count": 15,
   "metadata": {},
   "outputs": [
    {
     "name": "stdout",
     "output_type": "stream",
     "text": [
      "28\n"
     ]
    }
   ],
   "source": [
    "def multiply(x, y):\n",
    "    return x * y\n",
    "\n",
    "a = 4\n",
    "b = 7\n",
    "operation = multiply\n",
    "print(operation(a, b))"
   ]
  },
  {
   "cell_type": "markdown",
   "metadata": {},
   "source": [
    "- The example above assigned the function multiply to a variable operation. Now, the name operation can also be used to call the function.\n",
    "- Functions can also be used as arguments of other functions."
   ]
  },
  {
   "cell_type": "code",
   "execution_count": 16,
   "metadata": {},
   "outputs": [
    {
     "name": "stdout",
     "output_type": "stream",
     "text": [
      "30\n"
     ]
    }
   ],
   "source": [
    "def add(x, y):\n",
    "    return x + y\n",
    "\n",
    "def do_twice(func, x, y):\n",
    "    return func(func(x, y), func(x, y))\n",
    "\n",
    "a = 5\n",
    "b = 10\n",
    "print(do_twice(add, a, b))"
   ]
  },
  {
   "cell_type": "markdown",
   "metadata": {},
   "source": [
    "## Comments\n",
    "- Comments are annotations to code used to make it easier to understand. They don't affect how code is run.\n",
    "- In Python, a comment is created by inserting an **hash symbol**: #. All text after it on that line is ignored."
   ]
  },
  {
   "cell_type": "code",
   "execution_count": 11,
   "metadata": {},
   "outputs": [
    {
     "name": "stdout",
     "output_type": "stream",
     "text": [
      "1\n"
     ]
    }
   ],
   "source": [
    "x = 365\n",
    "y = 7\n",
    "# this is a comment\n",
    "\n",
    "print(x % y) # find the remainder\n",
    "# print (x // y)\n",
    "# another comment"
   ]
  },
  {
   "cell_type": "markdown",
   "metadata": {},
   "source": [
    "## Docstrings\n",
    "- Docstrings (documentation strings) are designed to explain code. They are created by putting a multiline string containing an explanation of the function below the function's first line.\n",
    "- Docstrings can be accessed by the **\\_\\_doc\\_\\_** attribute on objects:"
   ]
  },
  {
   "cell_type": "code",
   "execution_count": 14,
   "metadata": {},
   "outputs": [
    {
     "name": "stdout",
     "output_type": "stream",
     "text": [
      "spam!\n",
      "\n",
      "    Print a word with an\n",
      "    exclamation mark \n",
      "    following it.\n",
      "    \n"
     ]
    }
   ],
   "source": [
    "def shout(word):\n",
    "    \"\"\"\n",
    "    Print a word with an\n",
    "    exclamation mark \n",
    "    following it.\n",
    "    \"\"\"\n",
    "    print(word + \"!\")\n",
    "    \n",
    "shout(\"spam\")\n",
    "print(shout.__doc__)"
   ]
  }
 ],
 "metadata": {
  "kernelspec": {
   "display_name": "Python 3",
   "language": "python",
   "name": "python3"
  },
  "language_info": {
   "codemirror_mode": {
    "name": "ipython",
    "version": 3
   },
   "file_extension": ".py",
   "mimetype": "text/x-python",
   "name": "python",
   "nbconvert_exporter": "python",
   "pygments_lexer": "ipython3",
   "version": "3.6.5"
  }
 },
 "nbformat": 4,
 "nbformat_minor": 2
}
