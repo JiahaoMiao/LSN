{
 "cells": [
  {
   "cell_type": "markdown",
   "metadata": {},
   "source": [
    "# <span style=\"color:green\"> Numerical Simulation Laboratory </span>\n",
    "## <span style=\"color:brown\"> Python INTRODUCTORY LECTURE </span>\n",
    "## <span style=\"color:orange\"> THE JUPYTER NOTEBOOK </span>"
   ]
  },
  {
   "cell_type": "markdown",
   "metadata": {},
   "source": [
    "<img src=\"Pictures/jupyter.png\" width=\"600\">"
   ]
  },
  {
   "cell_type": "markdown",
   "metadata": {},
   "source": [
    "- The Jupyter notebook is an open-source web application that allows you to create and share documents that contain **live code**, equations, visualizations and narrative text\n",
    "- To this aim it is used worldwide also in Universities and Reasearch Institutions (for lectures, research, coding, live data analysis during experiments, etc.)\n",
    "- The Jupyter notebook extends the console-based approach to interactive computing in a qualitatively new direction, providing a web-based application suitable for capturing the **whole computation process**: *developing, documenting, and executing code, as well as communicating the results*\n",
    "- Notebook documents contains the inputs and outputs of a interactive session as well as additional text (not meant for execution) that accompanies the code. In this way, notebook files can serve as a complete computational record of a session, interleaving executable code with explanatory text, mathematics, and rich representations of resulting objects.\n",
    "- The Jupyter Notebook has support for over 40 programming languages\n",
    "- In this Numerical Simulation Laboratory you will code in C++ (using your preferred text/code editor) to solve the numerical exercises, but \n",
    "<span style=\"color:red\"> **for data analysis, pictures and presentation you will use** Python ... in a **Jupyter notebook** </span>\n",
    "- Please note that ... **this is a Jupyter notebook!**"
   ]
  },
  {
   "cell_type": "markdown",
   "metadata": {},
   "source": [
    "## Running Python in a Jupyter notebook \n",
    "- In order to launch the Jupyter nootebook application just type (once properly installed) in your Unix shell or any other command line: <font face = \"Courier\"> `jupyter-notebook` </font>\n",
    "- This will print some information about the notebook server in your terminal, including the URL of the web application (by default, http://localhost:8888):\n",
    "<img src=\"Pictures/run3.png\" width=\"800\">\n",
    "- When the notebook opens in your browser, you will see the Notebook Dashboard, which will show a list of the notebooks, files, and subdirectories in the directory where the notebook server was started\n",
    "<img src=\"Pictures/tryjupyter_file.png\" width=\"800\">\n",
    "- then you can start a new notebook project by clicking on **`New`** on the top-left ... and enjoy coding, writing etc.\n",
    "<img src=\"Pictures/run4.png\" width=\"800\">\n",
    "\n",
    "## How do I open a specific Notebook?\n",
    "\n",
    "- The following command in your Unix shell should open the given notebook in the currently running notebook server, starting one if necessary: <font face = \"Courier\"> `jupyter-notebook notebook_file.ipynb` </font>\n",
    "\n",
    "## Main features of the web application\n",
    "\n",
    "- In-browser editing for code, with automatic syntax highlighting\n",
    "- The ability to execute code from the browser, with the results of computations attached to the code which generated them"
   ]
  },
  {
   "cell_type": "code",
   "execution_count": 1,
   "metadata": {},
   "outputs": [
    {
     "name": "stdout",
     "output_type": "stream",
     "text": [
      "3\n"
     ]
    }
   ],
   "source": [
    "a = 1\n",
    "b = 2\n",
    "print(a+b)"
   ]
  },
  {
   "cell_type": "markdown",
   "metadata": {},
   "source": [
    "- Displaying the result of computation using rich media representations, such as HTML, LaTeX, PNG, SVG, etc. For example, publication-quality figures rendered by the matplotlib library, can be included inline\n",
    "- In-browser editing for rich text using the Markdown markup language, which can provide commentary for the code, is not limited to plain text\n",
    "- The ability to easily include mathematical notation within markdown cells using LaTeX"
   ]
  },
  {
   "cell_type": "markdown",
   "metadata": {},
   "source": [
    "## Notebook user interface\n",
    "- When you create a new notebook document, you will be presented with the notebook name, a menu bar, a toolbar and an empty code cell:\n",
    "<img src=\"Pictures/blank-notebook-ui.png\" width=\"800\">"
   ]
  },
  {
   "cell_type": "markdown",
   "metadata": {},
   "source": [
    "## Structure of a notebook document\n",
    "- The notebook consists of a sequence of cells\n",
    "- A cell is a multiline text input field, and its contents can be executed by using <font face = \"Courier\"> `Shift-Enter` </font>, or by clicking either the **`Play`** button the toolbar, or **`Cell + Run`** in the menu bar\n",
    "- The execution behavior of a cell is determined by the cell’s type\n",
    "- There are **two main types of cells**: *code cells* and *markdown cells*\n",
    "- Every cell starts off being a code cell, but its type can be changed by using a drop-down on the toolbar (which will be “Code”, initially)"
   ]
  },
  {
   "cell_type": "markdown",
   "metadata": {},
   "source": [
    "## Code cells\n",
    "- A **code cell** allows you to edit and write new code, with full syntax highlighting and tab completion. The programming language you use depends on the kernel, and **the default** kernel (IPython) **runs Python code**\n",
    "- When a code cell is executed, code that it contains is sent to the kernel associated with the notebook. The results that are returned from this computation are then displayed in the notebook as the cell’s output. The output is not limited to text, with many other possible forms of output are also possible, including matplotlib figures and HTML tables\n",
    "- see for example <a href=\"https://nbviewer.jupyter.org/github/ipython/ipython/blob/master/examples/IPython%20Kernel/Rich%20Output.ipynb\"> this </a>"
   ]
  },
  {
   "cell_type": "markdown",
   "metadata": {},
   "source": [
    "## Markdown cells\n",
    "- You can document the computational process in a literate way, alternating descriptive text with code, using rich text\n",
    "- In IPython this is accomplished by marking up text with the Markdown language. The corresponding cells are called **Markdown cells**\n",
    "- The Markdown language provides a simple way to perform this text markup, that is, to specify which parts of the text should be *emphasized* (italics), **bold**, form lists, etc.\n",
    "- If you want to provide structure for your document, you can use markdown headings. Markdown headings consist of 1 to 6 hash # signs # followed by a space and the title of your section; for example:\n",
    "# heading with 1[#]\n",
    "## heading with 2[#]\n",
    "### heading with 3[#]\n",
    "#### heading with 4[#]\n",
    "##### heading with 5[#] etc.\n",
    "\n",
    "\n",
    "- The markdown heading will be converted to a clickable link for a section of the notebook\n",
    "- When a Markdown cell is executed, the Markdown code is converted into the corresponding formatted rich text. Markdown allows arbitrary HTML code for formatting\n",
    "- Within Markdown cells, you can also include mathematics in a straightforward way, using standard LaTeX notation: <font face = \"Courier\"> \\\\$...\\\\$ </font> for inline mathematics and <font face = \"Courier\"> \\\\$\\\\$ ... \\\\$\\\\$ </font> for displayed mathematics. When the Markdown cell is executed, the LaTeX portions are automatically rendered in the HTML output as equations with high quality typography. This is made possible by MathJax, which supports a large subset of LaTeX functionality\n",
    "- For example $E=mc^2$ or: $$ E=mc^2 $$\n",
    "\n",
    "\n",
    "- Standard mathematics environments defined by LaTeX and AMS-LaTeX (the amsmath package) also work, such as <font face = \"Courier\"> \\\\begin(end){equation} </font>\n",
    "- New LaTeX macros may be defined using standard methods, such as <font face = \"Courier\"> \\\\newcommand </font>, by placing them anywhere between math delimiters in a Markdown cell. These definitions are then available throughout the rest of the IPython session\n",
    "- See also <a href=\"https://nbviewer.jupyter.org/github/jupyter/notebook/blob/master/docs/source/examples/Notebook/Working%20With%20Markdown%20Cells.ipynb\"> this </a> and especially <a href=\"https://guides.github.com/features/mastering-markdown/\"> this </a>"
   ]
  },
  {
   "cell_type": "markdown",
   "metadata": {},
   "source": [
    "## Browser Compatibility\n",
    "\n",
    "The Jupyter Notebook aims to support the latest versions of these browsers:\n",
    "- Chrome\n",
    "- Safari\n",
    "- Firefox"
   ]
  },
  {
   "cell_type": "markdown",
   "metadata": {},
   "source": [
    "## Documentation\n",
    "- <a href=\"https://jupyter-notebook.readthedocs.io/en/stable/\"> Original Jupyter notebooks docs </a>"
   ]
  }
 ],
 "metadata": {
  "kernelspec": {
   "display_name": "Python 3",
   "language": "python",
   "name": "python3"
  },
  "language_info": {
   "codemirror_mode": {
    "name": "ipython",
    "version": 3
   },
   "file_extension": ".py",
   "mimetype": "text/x-python",
   "name": "python",
   "nbconvert_exporter": "python",
   "pygments_lexer": "ipython3",
   "version": "3.6.5"
  }
 },
 "nbformat": 4,
 "nbformat_minor": 2
}
