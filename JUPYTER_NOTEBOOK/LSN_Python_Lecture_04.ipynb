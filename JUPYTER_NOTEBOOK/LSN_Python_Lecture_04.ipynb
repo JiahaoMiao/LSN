{
 "cells": [
  {
   "cell_type": "markdown",
   "metadata": {},
   "source": [
    "# <span style=\"color:green\"> Numerical Simulation Laboratory </span>\n",
    "## <span style=\"color:brown\"> How to deliver your exercises </span>\n",
    "## <span style=\"color:orange\"> Git & GitHub </span>"
   ]
  },
  {
   "cell_type": "markdown",
   "metadata": {},
   "source": [
    "<img src=\"Pictures/git.jpeg\" width=\"600\">"
   ]
  },
  {
   "cell_type": "markdown",
   "metadata": {},
   "source": [
    "## What is Git?\n",
    "- Git is a distributed version-control system for tracking changes in source code during software development. It is designed for coordinating work among programmers, but it can be used to track changes in any set of files\n",
    "- Git was created by Linus Torvalds in 2005 for development of the Linux kernel, with other kernel developers contributing to its initial development\n",
    "- Every Git directory on every computer is a full-fledged repository with complete history and full version-tracking abilities, independent of network access or a central server\n",
    "- Git is free and open-source software distributed under the terms of the GNU General Public License (GPL) version 2. "
   ]
  },
  {
   "cell_type": "markdown",
   "metadata": {},
   "source": [
    "## What is GitHub?\n",
    "- GitHub is a web-based hosting service which acts as **remote storage** for your **Git** repositories and provides a really neat and simple way for people to collaborate and contribute to development projects.\n",
    "- It provides access control and several collaboration features such as bug tracking, feature requests, task management, and wikis for every project\n",
    "- As of January 2019, GitHub offers unlimited private repositories to all plans, including free accounts\n",
    "- As of June 2018, GitHub reports having over 28 million users and 57 million repositories (including 28 million public repositories), making it the largest host of source code in the world"
   ]
  },
  {
   "cell_type": "markdown",
   "metadata": {},
   "source": [
    "## <font color=\"blue\">Step 1</font>: Create a GitHub account \n",
    "- Create a `GitHub account` <a href=\"https://github.com/join\"> here</a> following the instructions (accounts are free for public repositories!) ... it's simple ... I was able to! ;-)\n",
    "- If you'll work on your laptop and not on the PCs in the lab note that you also will need to install **Git**. In this case follow the instructions <a href=\"https://git-scm.com/book/en/v2/Getting-Started-Installing-Git\"> here</a>\n",
    "- Let’s set your Git identity **on your local account/laptop** from the command line (e.g. Unix shell). Git uses that information for every commit:\n",
    "\n",
    "<font face = \"Courier\"> `git config --global user.name \"Your Name\"` </font>\n",
    "\n",
    "<font face = \"Courier\"> `git config --global user.email mail@example.com` </font>\n",
    "\n",
    "- Then, a way to see the effect on your identity is via this command:\n",
    "\n",
    "<font face = \"Courier\"> `git config --list` </font>"
   ]
  },
  {
   "cell_type": "markdown",
   "metadata": {},
   "source": [
    "## <font color=\"blue\">Step 2</font>: Create a Repository\n",
    "- The repository is like a container of your project. It holds all the files and information about the project\n",
    "- Most of the git commands are not available outside of the initialized repository\n",
    "- create a git repository for your existing project, i.e. for the directory containing your exercises:\n",
    "\n",
    "<font face = \"Courier\"> `cd my_folder_with_my_exercises` </font>\n",
    "\n",
    "<font face = \"Courier\"> `git init` </font>\n",
    "\n",
    "- Now that we have a fresh repository, let’s make a simple description file (you can create, change and add any information you want using a text editor on the text file <font face = \"Courier\"> `README.md` </font>and using **Markdown syntax**!):\n",
    "\n",
    "<font face = \"Courier\"> `echo \"LSN_exercises_delivery\" > README.md` </font>\n",
    "\n",
    "<font face = \"Courier\"> `git add README.md` </font>\n",
    "\n",
    "- Now you can add all the folders containing your exercises, output data, jupyer notebooks etc. ... for example:\n",
    "\n",
    "<font face = \"Courier\"> `git add your_exercise_folder_1` </font>\n",
    "\n",
    "<font face = \"Courier\"> `git add your_exercise_folder_2` </font>\n",
    "\n",
    "etc.etc.\n",
    "\n",
    "- When you will have finished to add any content of your repository **record** your changes with a **commit**:\n",
    "\n",
    "<font face = \"Courier\"> `git commit -m \"This is only a text record to remember this first commit\"` </font>\n",
    "\n",
    "- Think of a <font face = \"Courier\"> `git commit` </font> as saying “okay git, you can save this state of the project and If I will ever need to come back to look at it, I will let you know”. Try to get in the habit of committing changes regularly. Trust me, it will be your lifesaver.\n",
    "- The command <font face = \"Courier\"> `git status` </font> will show the current version control status about **untracked files**, and ones that have any possible committable changes.\n",
    "- Once you create the commit after all chages in your repository the answer to the command <font face = \"Courier\"> `git status` </font> will be something like:\n",
    "\n",
    "<font face = \"Courier\"> `$ git status\n",
    "On branch master\n",
    "nothing to commit, working tree clean` </font>\n",
    "\n",
    "- If you modify an existing file in your repository, **after that you add it** to the staging environment/area, the command <font face = \"Courier\"> `git diff` </font> shows the differences between your last commit and the staging area. As you will see **git knows exactly what was modified in the file, and changes for these files will be tracked at all times**. But note that each time you modify a file, it needs to be re-added to the staging area."
   ]
  },
  {
   "cell_type": "markdown",
   "metadata": {},
   "source": [
    "### An interlude: The staging environment, the commit, and you\n",
    "- One of the most confusing parts when you're first learning git is the concept of the **staging area/environment** and how it relates to a commit\n",
    "- A **commit** is a record of what files you have changed since the last time you made a commit. Essentially, you make changes to your repo (for example, adding a file or modifying one) and then tell git to put those files into a commit\n",
    "- Commits make up the essence of your project and allow you to go back to the state of a project at any point.\n",
    "- So, how do you tell git which files to put into a commit? This is where the staging environment/area come in. When you make changes to your repo, git notices that a file has changed but won't do anything with it. To add a file to a commit, you first need to add it to the staging environment/area. To do this, you can use the <font face = \"Courier\"> `git add filename` </font> command. Once you've used the git add command to add all the files you want to the staging environment/area, you can then tell git to package them into a commit using the <font face = \"Courier\"> `git commit` </font> command.\n",
    "- To see all your commits related to a repository you can use the command: <font face = \"Courier\"> `git log` </font>"
   ]
  },
  {
   "cell_type": "markdown",
   "metadata": {},
   "source": [
    " ### Another interlude: Branching\n",
    " - Think of **branching** as creating a separate copy of a certain state of a project. Let’s say you are working on your project and you would like to add a new feature. To do that, just branch out your latest version and add the feature. Once you are happy with the result, you can go ahead and merge it\n",
    " - Branches allow you to move back and forth between 'states' of a project. \n",
    " - You don’t need to use this to deliver your exercises, but just know that it’s there. When you will start using git for you daily projects, be aware that you can use branching and other advanced functionalities"
   ]
  },
  {
   "cell_type": "markdown",
   "metadata": {},
   "source": [
    "## <font color=\"blue\">Step 3</font>: Put you repository on a Remote Repository (GitHub)\n",
    "- You will use GitHub as your remote repository of LSN exercises\n",
    "- To create a new repository on GitHub, log in and go to the GitHub home page. You should see a green '+ New repository' button:\n",
    "\n",
    "<img src=\"Pictures/Git_101_Screenshot1-2.webp\" width=\"600\">\n",
    "\n",
    "- After clicking the button, GitHub will ask you to **give a name your repository** and **provide a brief description**:\n",
    "\n",
    "<img src=\"Pictures/Git_101_Screenshot_2-1.webp\" width=\"600\">\n",
    "\n",
    "- There are a few options you should look at when creating a new repository: **privacy settings** (use public), **license** (use None, you can add a licence later if you want), and **git ignore file** (use None). \n",
    "\n",
    "- When you're done filling out the information, press the **`Create repository`** button to make your new repository\n",
    "\n",
    "- Let’s push our local project to GitHub:\n",
    "\n",
    "<font face = \"Courier\"> `git remote add origin https://github.com/YOUR_USERNAME/PROJECT_NAME.git` </font>\n",
    "\n",
    "<font face = \"Courier\"> `git push -u origin master` </font>\n",
    "\n",
    "... or, in case you'll need it, to force the push type:\n",
    "\n",
    "<font face = \"Courier\"> `git push -f origin master` </font>\n",
    "\n",
    "- <font color=\"red\"> To conclude, when you are ready let me know (by e-mail) your GitHub! </font>\n",
    "\n",
    "## <font color=\"blue\"> That's all folks! </font>\n",
    "\n",
    "- If you need to change the remote origin, first remove it:\n",
    "\n",
    "<font face = \"Courier\"> `git remote remove origin` </font>\n",
    "... and then add a new one."
   ]
  },
  {
   "cell_type": "markdown",
   "metadata": {},
   "source": [
    "## In case you need it: Get changes on GitHub back to your computer\n",
    "- In order to get the most recent changes that you or others have merged on GitHub, use command (when working on the master branch):\n",
    "\n",
    "<font face = \"Courier\"> `git pull origin master` </font>"
   ]
  },
  {
   "cell_type": "markdown",
   "metadata": {},
   "source": [
    "## In case you really need it: delete a repository\n",
    "- Only members with admin privileges for a repository can delete it\n",
    "-  <font color=\"red\"> Warning: These steps will permanently delete the repository, wiki, issues, and comments. This action cannot be undone! </font>"
   ]
  },
  {
   "cell_type": "markdown",
   "metadata": {},
   "source": [
    "1. On GitHub, navigate to the main page of the repository\n",
    "2. Under your repository name, click **Settings**\n",
    "\n",
    "<img src=\"Pictures/repo-actions-settings.png\" width=\"600\">\n",
    "\n",
    "3. Under Danger Zone, click **Delete this repository**\n",
    "\n",
    "<img src=\"Pictures/repo-delete.png\" width=\"600\">\n",
    "\n",
    "4. **Read the warnings**\n",
    "\n",
    "5. To verify that you're deleting the correct repository, type the name of the repository you want to delete\n",
    "\n",
    "<img src=\"Pictures/repo-delete-confirmation.png\" width=\"400\">\n",
    "\n",
    "6. Click **I understand the consequences, delete this repository**"
   ]
  },
  {
   "cell_type": "markdown",
   "metadata": {},
   "source": [
    "## Documentation\n",
    "- Git: <a href=\"https://git-scm.com/doc\"> Original Git docs </a>\n",
    "- GitHub: <a href=\"https://guides.github.com/\"> Original GitHub guides </a>"
   ]
  }
 ],
 "metadata": {
  "kernelspec": {
   "display_name": "Python 3",
   "language": "python",
   "name": "python3"
  },
  "language_info": {
   "codemirror_mode": {
    "name": "ipython",
    "version": 3
   },
   "file_extension": ".py",
   "mimetype": "text/x-python",
   "name": "python",
   "nbconvert_exporter": "python",
   "pygments_lexer": "ipython3",
   "version": "3.6.5"
  }
 },
 "nbformat": 4,
 "nbformat_minor": 2
}
