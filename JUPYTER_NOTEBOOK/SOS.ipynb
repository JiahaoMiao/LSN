{
 "cells": [
  {
   "cell_type": "markdown",
   "metadata": {},
   "source": [
    "# <span style=\"color:green\"> SOS: how to Survive On unix Shell </span>\n",
    "## <span style=\"color:blue\"> A brief vademecum </span>"
   ]
  },
  {
   "cell_type": "markdown",
   "metadata": {},
   "source": [
    "During this course, you are expected to be familiar with the main Unix shell commands. However, there are some tricks\n",
    "worth to be mentioned... "
   ]
  },
  {
   "cell_type": "markdown",
   "metadata": {},
   "source": [
    "In the following, it is implicitly assumed that your shell is the Bourne Again Shell, \n",
    "<a href=\"https://www.gnu.org/software/bash/\"> BASH</a>. Any other kind of shell (zsh, csh, ... ) is fine too (but some names will change)."
   ]
  },
  {
   "cell_type": "markdown",
   "metadata": {},
   "source": [
    "### The very basic stuff\n",
    "\n",
    "Okay, you're attending a Numerical Simulation Laboratory now... stop using the graphic interface for moving files or for looking inside directories! It is much cooler to use the very basic shell commands ;-) \n",
    "- That is, you are supposed to know how to use <font face = \"Courier\"> `pwd, ls, cd, mkdir, rm, cp, mv, scp, ssh`</font> and the relative flags (such as <font face = \"Courier\"> -r</font> applied to <font face = \"Courier\">rm</font> and <font face = \"Courier\">cp</font> in order to operate on folders). Please, also be aware that <font face = \"Courier\">touch</font> creates a new empty file inside the current directory and that <font face = \"Courier\">`ls -l`</font> displays a detailed list of info about the files present in the current folder, while <font face = \"Courier\">`ls -t`</font> you will list the files sort by modification time, newest first.\n",
    "For (almost) any shell command, by typing <font face = \"Courier\">man command_name</font> a manual for that command will be printed on the screen.\n",
    "\n",
    "- Please also remember that there are some shortcuts to indicate some peculiar positions inside your disk: <font face = \"Courier\">./</font> is the current directory, <font face = \"Courier\">../</font> is the directory immediately above in the hierarchy (referred to actual position) and <font face = \"Courier\">~/</font> is the \\\\$HOME directory (e.g. <font face = \"Courier\">/home/users/my.account/</font>).\n",
    "\n",
    "- It is also worth underlining that the \"&\" character at the end of any command gives you back the command prompt. The syntax <font face = \"Courier\">`command< input.file`</font> indicates that a given Unix command is provided with a file as standard input. Any output from a command can be redirected into a file, using the \">\" symbol (\">>\" if one needs to append lines to an existing file).\n",
    "\n",
    "Surely, these few lines have not been able to frighten you... let's start!"
   ]
  },
  {
   "cell_type": "markdown",
   "metadata": {},
   "source": [
    "### Meet the \\$PATH\n",
    "- In Unix, there are some environment variables (e.g. \\\\$PATH, \\\\$HOME, \\\\$USER etc.) that can be printed via the <font face = \"Courier\">`echo $VARIABLE`</font> command. These variables can also be modified.\n",
    "- Now, let us suppose that you are inside a folder such as <font face = \"Courier\"> `~/Documents/my_folder`</font>. The content of the folder is a single file called <font face = \"Courier\"> `my_file.cpp`</font>, which is a source code written in <font face = \"Courier\"> C++</font> which contains some instructions to be executed. You compile with <font face = \"Courier\"> `g++ my_file.cpp -o my_file.x`</font> and everything works, even if nothing called \"<font face = \"Courier\"> g++ </font>\" is present in the current folder. Why does it work? \n",
    "It works because your OS knows a list of paths inside your computer in which to look for executables if they are not present in the current directory. That is, somewhere on your machine there exist a file called \"<font face = \"Courier\">g++</font>\" which is exactly the <font face = \"Courier\"> C++ </font> compiler we need.\n",
    "- If you run <font face = \"Courier\"> `which g++`</font> on your shell, it will give you back something like: <font face = \"Courier\"> `/usr/bin/g++`</font> which is the absolute path of the executable <font face = \"Courier\"> g++</font>. \n",
    "- All the pre-defined paths are contained in the environment variable <font face = \"Courier\"> \\$PATH</font>, whose actual value can be obtained by typing <font face = \"Courier\"> `echo $PATH`</font>. A typical result can look like: <font face = \"Courier\"> `/usr/bin:/usr/local/bin:/usr/local/sbin:/usr/sbin:/home/unimi/my.username/bin`</font>"
   ]
  },
  {
   "cell_type": "markdown",
   "metadata": {},
   "source": [
    "### .bashrc: aliases and \\$PATH modification\n",
    "- Let us move to your \\$HOME (via <font face = \"Courier\"> `cd` </font> or <font face = \"Courier\"> `cd $HOME` </font> or <font face = \"Courier\"> `cd ~` </font>). By typing <font face = \"Courier\"> `ls -a` </font>, a list of files and folders will be displayed, included several whose name begins with \".\", the so-called hidden files. A particularly relevant hidden file is <font face = \"Courier\"> .bashrc </font> (or, sometimes, <font face = \"Courier\"> .bash_profile </font>). <font face = \"Courier\">.bashrc </font> is a configuration file whose instructions are loaded each time you open a new shell. Look, for example, <a href=\"http://www.joshstaiger.org/archives/2005/07/bash_profile_vs.html\"> here</a>  for a more detailed explanation (things are slightly easier for macOS users...)\n",
    "- This file can be modified (we'll later see why and how to do it). To make these changes effective, one can open a new shell tab or type <font face = \"Courier\">`source .bashrc`</font> from the <font face = \"Courier\"> \\$HOME</font> directory.\n",
    "- Typical contents of such a configuration bash script are the **alias** and the **export** commands (but they are not the only one, for example take a look <a href=\"https://www.cyberciti.biz/faq/bash-shell-change-the-color-of-my-shell-prompt-under-linux-or-unix/\">here</a> to permanently make your shell colourful and pretty-looking).\n",
    "- An alias is a way to state that, by default, typing <font face = \"Courier\"> `command1` </font> and <font face = \"Courier\"> `command2` </font> in a shell produces the same results. The syntax <font face = \"Courier\"> `alias command1='command2'` </font> makes it possible (no blank spaces befor and after the <font face = \"Courier\"> `=`</font>!). For example, I can write <font face = \"Courier\"> `alias ll='ls -l'` </font>  or  <font face = \"Courier\"> `alias tolab='ssh -XY name.surname@tolab.fisica.unimi.it'`</font>. This is very comfortable and can make absolutely easier your daily life as programmers... \n",
    "Now, you can define an alias whose validity is limited to the current terminal session or you can make it default. To do this, simply add a line to <font face = \"Courier\"> `source .bashrc`</font> with the same command you would give interactively on the shell and make the change effctive.\n",
    "- The typical thing you want to export, instead, is a path, e.g. <font face = \"Courier\"> \\$PATH </font> (but also some variables with numerical values can be exported).\n",
    "The <font face = \"Courier\"> \\$PATH </font> variable stores a list of folders which are read in order and, if a correspondence is found, the search through the list is stopped. Therefore, adding a specific path to <font face = \"Courier\"> \\$PATH</font> extablishes the priority of an executable found in that position with respect to any other executable with the same name but found elsewhere. In order to add a path to the head of <font face = \"Courier\"> \\$PATH </font> you must type <font face = \"Courier\"> `export PATH\"=my/new/path:$PATH\"`</font>; if you instead want to add a low-priority path to <font face = \"Courier\"> \\$PATH </font>, just type <font face = \"Courier\"> `export PATH=\"$PATH:my/new/path\"` </font>\n",
    "For example, it will be useful - in order to use Intel Python overpassing the default Python executables present in <font face = \"Courier\"> /usr/local/bin </font> - to permanently add to the configuration file <font face = \"Courier\"> `export PATH=\"/opt/intel/intelpython3/bin:$PATH\"`</font>."
   ]
  },
  {
   "cell_type": "markdown",
   "metadata": {},
   "source": [
    "### Monitoring the system\n",
    "Sometimes, it is useful to monitor the system status, how many running processes are there and so on. Unix has a built-in executable called <font face = \"Courier\"> top </font> to do this.\n",
    "- Running <font face = \"Courier\">top</font> command on the shell, the result should look like: <img src=\"Pictures/top.png\" width=\"600\">\n",
    "\n",
    "where <font face = \"Courier\">PID</font> is the process identity, run by a certain <font face = \"Courier\">USER</font>. There are many other informations, including the CPU and RAM usage, the minutes spent in execution by each program and the name of the executable.\n",
    "In these case, for example, we have 8 running processes, each one called <font face = \"Courier\">lmp_mpi</font>. In case one needs to kill a given process, e.g. the number 22186, the command is: <font face = \"Courier\">`pkill 22186 `</font>. The command <font face = \"Courier\">pkill</font> can also be used with the flag <font face = \"Courier\">-u username</font>, where you have to replace <font face = \"Courier\">username</font> with a valid user account name. In this case, you will kill **all** the running processes of a user (including the interactive shell). If <font face = \"Courier\">username = \\\\$USER</font>, you will kill all your own jobs. Writing <font face = \"Courier\">`pkill lmp_mpi`</font> stops all the running instances of the program <font face = \"Courier\">lmp_mpi</font>.\n",
    "To exit from <font face = \"Courier\">top</font> it is enough to type <font face = \"Courier\">`q`</font>.\n",
    "\n",
    "- A nice alternative to <font face = \"Courier\"> top </font> is <font face = \"Courier\"> htop </font> (that you have to explicitly install). <font face = \"Courier\">htop</font> provides more or less the same information provided by <font face = \"Courier\"> top </font>, but also displays the usage of each single core, of the RAM and of the swap memory.\n",
    "\n",
    "<img src=\"Pictures/htop.png\" width=\"800\">"
   ]
  },
  {
   "cell_type": "markdown",
   "metadata": {},
   "source": [
    "### Tricks of the trade\n",
    "\n",
    "In the following, a short list of useful Unix commands:\n",
    "- <font face = \"Courier\"> `cat filename` </font> displays the full content of a text file\n",
    "- <font face = \"Courier\"> `head -n K filename` </font> displays the first K lines of a text file\n",
    "- <font face = \"Courier\"> `tail -n K filename` </font> displays the last K lines of a text file\n",
    "- <font face = \"Courier\"> `locate a_given_string` </font> looks up everywhere for all the files whose name contains also the string <font face = \"Courier\"> a_given_string</font>. The search is performed through a database built once for all, in order to speed up the quest. The database can be updated (do it regulary, otherwise the results of the <font face = \"Courier\"> locate </font> instruction can be confusing. To do this, just run<font face = \"Courier\"> `sudo updatedb`</font> on Linux or <font face = \"Courier\">`sudo /usr/libexec/locate.updatedb`</font> on macOS.\n",
    "- <font face = \"Courier\"> `find /a/given/path -type f -name \"my.file\"` </font> allows you to find all the files named <font face = \"Courier\"> my.file</font> that are present in the path given as first argument. Sometimes it can be useful to specify the tipe of files that should be looked for (\"f\" is for simple files, while \"d\" is for directories). In this case (as in many other situations while working on a shell) the usage of the wildcard characters **\"*\"** and **\"?\"** could turn out to be highly useful. Here below an example of the different meaning of these two symbols (essentially, \"*\" replaces anything while \"?\" replaces a single character).\n",
    "\n",
    "<img src=\"Pictures/wildcard.png\" width=\"800\">\n",
    "\n",
    "Another useful option concerning <font face = \"Courier\"> find</font> is: <font face = \"Courier\"> `find /a/given/path -size +[integer representing a given size] -print | more`</font>. Notice that the \"|\" is called \"pipe\" and is a symbol inserted between the calls to two (or more) programs, to tell the shell that the data directed to the standard output of the program on the left must be sent to the one on the right as standard input."
   ]
  },
  {
   "cell_type": "markdown",
   "metadata": {},
   "source": [
    "### Digging up in the past\n",
    "\n",
    "Let us briefly review some methods to recall previous commands executed on the current shell without typing them from scratch each time:\n",
    "- <font face = \"Courier\"> history </font> command, by default, shows the last 1000 commands used\n",
    "- <font face = \"Courier\"> !char </font> repeats last command that started with char (can be a single charachter or an array of characters\n",
    "- recursive search: type \"CTRL\" + \"r\", the shell will give you back an interactive command line. Then, you have to enter one or more characters. The system will answer by printing the last (on that shell) occurrence of a command containing the characters you are looking for. If the desidered command was further in the past, just type again \"CTRL\" + \"r\" until you reach the desired command.\n",
    "- last, obviously, through the usage of \"up\" and \"down\" arrows on the keyboard, it is possible to surf through the previous commands and, if needed, to execute them by pressing \"Enter\""
   ]
  },
  {
   "cell_type": "markdown",
   "metadata": {},
   "source": []
  }
 ],
 "metadata": {
  "kernelspec": {
   "display_name": "Python 3",
   "language": "python",
   "name": "python3"
  },
  "language_info": {
   "codemirror_mode": {
    "name": "ipython",
    "version": 3
   },
   "file_extension": ".py",
   "mimetype": "text/x-python",
   "name": "python",
   "nbconvert_exporter": "python",
   "pygments_lexer": "ipython3",
   "version": "3.6.5"
  }
 },
 "nbformat": 4,
 "nbformat_minor": 2
}
